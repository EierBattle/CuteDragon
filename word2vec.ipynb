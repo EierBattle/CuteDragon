{
 "cells": [
  {
   "cell_type": "code",
   "execution_count": 2,
   "metadata": {},
   "outputs": [
    {
     "name": "stdout",
     "output_type": "stream",
     "text": [
      "Collecting package metadata (current_repodata.json): done\n",
      "Solving environment: done\n",
      "\n",
      "## Package Plan ##\n",
      "\n",
      "  environment location: /opt/conda\n",
      "\n",
      "  added / updated specs:\n",
      "    - gensim\n",
      "\n",
      "\n",
      "The following packages will be downloaded:\n",
      "\n",
      "    package                    |            build\n",
      "    ---------------------------|-----------------\n",
      "    ca-certificates-2020.10.14 |                0         128 KB  anaconda\n",
      "    certifi-2020.6.20          |           py37_0         159 KB  anaconda\n",
      "    conda-4.10.3               |   py37h89c1867_1         3.0 MB  conda-forge\n",
      "    gensim-3.8.0               |   py37h962f231_0        22.7 MB  anaconda\n",
      "    openssl-1.1.1l             |       h7f8727e_0         2.5 MB\n",
      "    smart_open-5.2.1           |     pyhd8ed1ab_0          43 KB  conda-forge\n",
      "    ------------------------------------------------------------\n",
      "                                           Total:        28.6 MB\n",
      "\n",
      "The following NEW packages will be INSTALLED:\n",
      "\n",
      "  gensim             anaconda/linux-64::gensim-3.8.0-py37h962f231_0\n",
      "  smart_open         conda-forge/noarch::smart_open-5.2.1-pyhd8ed1ab_0\n",
      "\n",
      "The following packages will be UPDATED:\n",
      "\n",
      "  conda                               4.10.3-py37h89c1867_0 --> 4.10.3-py37h89c1867_1\n",
      "  openssl                                 1.1.1k-h27cfd23_0 --> 1.1.1l-h7f8727e_0\n",
      "\n",
      "The following packages will be SUPERSEDED by a higher-priority channel:\n",
      "\n",
      "  ca-certificates    conda-forge::ca-certificates-2021.5.3~ --> anaconda::ca-certificates-2020.10.14-0\n",
      "  certifi            conda-forge::certifi-2021.5.30-py37h8~ --> anaconda::certifi-2020.6.20-py37_0\n",
      "\n",
      "\n",
      "\n",
      "Downloading and Extracting Packages\n",
      "smart_open-5.2.1     | 43 KB     | ##################################### | 100% \n",
      "conda-4.10.3         | 3.0 MB    | ##################################### | 100% \n",
      "openssl-1.1.1l       | 2.5 MB    | ##################################### | 100% \n",
      "certifi-2020.6.20    | 159 KB    | ##################################### | 100% \n",
      "ca-certificates-2020 | 128 KB    | ##################################### | 100% \n",
      "gensim-3.8.0         | 22.7 MB   | ##################################### | 100% \n",
      "Preparing transaction: done\n",
      "Verifying transaction: done\n",
      "Executing transaction: done\n",
      "\n",
      "Note: you may need to restart the kernel to use updated packages.\n"
     ]
    }
   ],
   "source": [
    "%conda install -c anaconda gensim -y "
   ]
  },
  {
   "cell_type": "code",
   "execution_count": 5,
   "metadata": {},
   "outputs": [],
   "source": [
    "import logging\n",
    "logging.basicConfig(format='%(asctime)s : %(levelname)s : %(message)s', level=logging.INFO)"
   ]
  },
  {
   "cell_type": "code",
   "execution_count": 6,
   "metadata": {},
   "outputs": [],
   "source": [
    "import gensim.downloader as api"
   ]
  },
  {
   "cell_type": "code",
   "execution_count": 7,
   "metadata": {},
   "outputs": [
    {
     "name": "stderr",
     "output_type": "stream",
     "text": [
      "2021-09-11 11:35:44,422 : INFO : Creating /root/gensim-data\n"
     ]
    },
    {
     "name": "stdout",
     "output_type": "stream",
     "text": [
      "[==================================================] 100.0% 31.6/31.6MB downloaded\n"
     ]
    },
    {
     "name": "stderr",
     "output_type": "stream",
     "text": [
      "2021-09-11 11:35:48,303 : INFO : text8 downloaded\n"
     ]
    }
   ],
   "source": [
    "corpus = api.load('text8')"
   ]
  },
  {
   "cell_type": "code",
   "execution_count": 8,
   "metadata": {},
   "outputs": [
    {
     "name": "stdout",
     "output_type": "stream",
     "text": [
      "class Dataset(object):\n",
      "    def __init__(self, fn):\n",
      "        self.fn = fn\n",
      "\n",
      "    def __iter__(self):\n",
      "        corpus = Text8Corpus(self.fn)\n",
      "        for doc in corpus:\n",
      "            yield doc\n",
      "\n"
     ]
    }
   ],
   "source": [
    "import inspect\n",
    "print(inspect.getsource(corpus.__class__))"
   ]
  },
  {
   "cell_type": "code",
   "execution_count": 9,
   "metadata": {},
   "outputs": [
    {
     "name": "stderr",
     "output_type": "stream",
     "text": [
      "2021-09-11 11:36:17,248 : INFO : collecting all words and their counts\n",
      "2021-09-11 11:36:17,298 : INFO : PROGRESS: at sentence #0, processed 0 words, keeping 0 word types\n",
      "2021-09-11 11:36:22,871 : INFO : collected 253854 word types from a corpus of 17005207 raw words and 1701 sentences\n",
      "2021-09-11 11:36:22,871 : INFO : Loading a fresh vocabulary\n",
      "2021-09-11 11:36:23,214 : INFO : effective_min_count=5 retains 71290 unique words (28% of original 253854, drops 182564)\n",
      "2021-09-11 11:36:23,215 : INFO : effective_min_count=5 leaves 16718844 word corpus (98% of original 17005207, drops 286363)\n",
      "2021-09-11 11:36:23,400 : INFO : deleting the raw counts dictionary of 253854 items\n",
      "2021-09-11 11:36:23,409 : INFO : sample=0.001 downsamples 38 most-common words\n",
      "2021-09-11 11:36:23,410 : INFO : downsampling leaves estimated 12506280 word corpus (74.8% of prior 16718844)\n",
      "2021-09-11 11:36:23,667 : INFO : estimated required memory for 71290 words and 100 dimensions: 92677000 bytes\n",
      "2021-09-11 11:36:23,668 : INFO : resetting layer weights\n",
      "2021-09-11 11:36:34,403 : INFO : training model with 3 workers on 71290 vocabulary and 100 features, using sg=0 hs=0 sample=0.001 negative=5 window=5\n",
      "2021-09-11 11:36:35,419 : INFO : EPOCH 1 - PROGRESS: at 3.35% examples, 415038 words/s, in_qsize 5, out_qsize 0\n",
      "2021-09-11 11:36:36,447 : INFO : EPOCH 1 - PROGRESS: at 6.88% examples, 418084 words/s, in_qsize 5, out_qsize 0\n",
      "2021-09-11 11:36:37,465 : INFO : EPOCH 1 - PROGRESS: at 10.46% examples, 424583 words/s, in_qsize 5, out_qsize 0\n",
      "2021-09-11 11:36:38,470 : INFO : EPOCH 1 - PROGRESS: at 13.99% examples, 428048 words/s, in_qsize 5, out_qsize 0\n",
      "2021-09-11 11:36:39,487 : INFO : EPOCH 1 - PROGRESS: at 17.58% examples, 430553 words/s, in_qsize 4, out_qsize 2\n",
      "2021-09-11 11:36:40,490 : INFO : EPOCH 1 - PROGRESS: at 21.16% examples, 433160 words/s, in_qsize 5, out_qsize 0\n",
      "2021-09-11 11:36:41,517 : INFO : EPOCH 1 - PROGRESS: at 24.69% examples, 433048 words/s, in_qsize 5, out_qsize 0\n",
      "2021-09-11 11:36:42,520 : INFO : EPOCH 1 - PROGRESS: at 28.10% examples, 432760 words/s, in_qsize 5, out_qsize 0\n",
      "2021-09-11 11:36:43,524 : INFO : EPOCH 1 - PROGRESS: at 31.51% examples, 432502 words/s, in_qsize 5, out_qsize 0\n",
      "2021-09-11 11:36:44,548 : INFO : EPOCH 1 - PROGRESS: at 35.16% examples, 434293 words/s, in_qsize 5, out_qsize 0\n",
      "2021-09-11 11:36:45,566 : INFO : EPOCH 1 - PROGRESS: at 38.74% examples, 435003 words/s, in_qsize 5, out_qsize 0\n",
      "2021-09-11 11:36:46,575 : INFO : EPOCH 1 - PROGRESS: at 42.21% examples, 434737 words/s, in_qsize 5, out_qsize 1\n",
      "2021-09-11 11:36:47,599 : INFO : EPOCH 1 - PROGRESS: at 45.33% examples, 430666 words/s, in_qsize 4, out_qsize 1\n",
      "2021-09-11 11:36:48,638 : INFO : EPOCH 1 - PROGRESS: at 48.74% examples, 429338 words/s, in_qsize 5, out_qsize 0\n",
      "2021-09-11 11:36:49,641 : INFO : EPOCH 1 - PROGRESS: at 52.09% examples, 428601 words/s, in_qsize 5, out_qsize 0\n",
      "2021-09-11 11:36:50,644 : INFO : EPOCH 1 - PROGRESS: at 55.44% examples, 428204 words/s, in_qsize 4, out_qsize 1\n",
      "2021-09-11 11:36:51,645 : INFO : EPOCH 1 - PROGRESS: at 59.02% examples, 429412 words/s, in_qsize 5, out_qsize 0\n",
      "2021-09-11 11:36:52,670 : INFO : EPOCH 1 - PROGRESS: at 62.67% examples, 430345 words/s, in_qsize 4, out_qsize 1\n",
      "2021-09-11 11:36:53,678 : INFO : EPOCH 1 - PROGRESS: at 66.20% examples, 430757 words/s, in_qsize 5, out_qsize 0\n",
      "2021-09-11 11:36:54,681 : INFO : EPOCH 1 - PROGRESS: at 69.19% examples, 428045 words/s, in_qsize 5, out_qsize 0\n",
      "2021-09-11 11:36:55,681 : INFO : EPOCH 1 - PROGRESS: at 71.66% examples, 422462 words/s, in_qsize 6, out_qsize 0\n",
      "2021-09-11 11:36:56,690 : INFO : EPOCH 1 - PROGRESS: at 74.90% examples, 421525 words/s, in_qsize 5, out_qsize 0\n",
      "2021-09-11 11:36:57,712 : INFO : EPOCH 1 - PROGRESS: at 78.54% examples, 421901 words/s, in_qsize 5, out_qsize 0\n",
      "2021-09-11 11:36:58,739 : INFO : EPOCH 1 - PROGRESS: at 82.19% examples, 422722 words/s, in_qsize 5, out_qsize 0\n",
      "2021-09-11 11:36:59,756 : INFO : EPOCH 1 - PROGRESS: at 85.83% examples, 423758 words/s, in_qsize 5, out_qsize 0\n",
      "2021-09-11 11:37:00,775 : INFO : EPOCH 1 - PROGRESS: at 89.36% examples, 424174 words/s, in_qsize 5, out_qsize 1\n",
      "2021-09-11 11:37:01,779 : INFO : EPOCH 1 - PROGRESS: at 92.89% examples, 424607 words/s, in_qsize 5, out_qsize 0\n",
      "2021-09-11 11:37:02,800 : INFO : EPOCH 1 - PROGRESS: at 96.47% examples, 425080 words/s, in_qsize 3, out_qsize 2\n",
      "2021-09-11 11:37:03,718 : INFO : worker thread finished; awaiting finish of 2 more threads\n",
      "2021-09-11 11:37:03,733 : INFO : worker thread finished; awaiting finish of 1 more threads\n",
      "2021-09-11 11:37:03,736 : INFO : worker thread finished; awaiting finish of 0 more threads\n",
      "2021-09-11 11:37:03,737 : INFO : EPOCH - 1 : training on 17005207 raw words (12506223 effective words) took 29.3s, 426387 effective words/s\n",
      "2021-09-11 11:37:04,759 : INFO : EPOCH 2 - PROGRESS: at 3.59% examples, 441755 words/s, in_qsize 6, out_qsize 0\n",
      "2021-09-11 11:37:05,772 : INFO : EPOCH 2 - PROGRESS: at 7.05% examples, 430595 words/s, in_qsize 4, out_qsize 1\n",
      "2021-09-11 11:37:06,773 : INFO : EPOCH 2 - PROGRESS: at 10.70% examples, 437802 words/s, in_qsize 5, out_qsize 0\n",
      "2021-09-11 11:37:07,775 : INFO : EPOCH 2 - PROGRESS: at 14.17% examples, 436699 words/s, in_qsize 4, out_qsize 1\n",
      "2021-09-11 11:37:08,785 : INFO : EPOCH 2 - PROGRESS: at 17.70% examples, 436540 words/s, in_qsize 5, out_qsize 0\n",
      "2021-09-11 11:37:09,790 : INFO : EPOCH 2 - PROGRESS: at 21.28% examples, 438131 words/s, in_qsize 5, out_qsize 0\n",
      "2021-09-11 11:37:10,796 : INFO : EPOCH 2 - PROGRESS: at 24.75% examples, 437508 words/s, in_qsize 5, out_qsize 0\n",
      "2021-09-11 11:37:11,796 : INFO : EPOCH 2 - PROGRESS: at 28.28% examples, 438683 words/s, in_qsize 5, out_qsize 0\n",
      "2021-09-11 11:37:12,807 : INFO : EPOCH 2 - PROGRESS: at 31.75% examples, 438254 words/s, in_qsize 3, out_qsize 2\n",
      "2021-09-11 11:37:13,833 : INFO : EPOCH 2 - PROGRESS: at 35.39% examples, 439432 words/s, in_qsize 5, out_qsize 0\n",
      "2021-09-11 11:37:14,846 : INFO : EPOCH 2 - PROGRESS: at 38.92% examples, 439157 words/s, in_qsize 5, out_qsize 0\n",
      "2021-09-11 11:37:15,851 : INFO : EPOCH 2 - PROGRESS: at 42.39% examples, 438651 words/s, in_qsize 5, out_qsize 0\n",
      "2021-09-11 11:37:16,852 : INFO : EPOCH 2 - PROGRESS: at 45.97% examples, 439477 words/s, in_qsize 5, out_qsize 0\n",
      "2021-09-11 11:37:17,872 : INFO : EPOCH 2 - PROGRESS: at 49.68% examples, 440688 words/s, in_qsize 5, out_qsize 0\n",
      "2021-09-11 11:37:18,897 : INFO : EPOCH 2 - PROGRESS: at 53.26% examples, 440616 words/s, in_qsize 5, out_qsize 0\n",
      "2021-09-11 11:37:19,905 : INFO : EPOCH 2 - PROGRESS: at 56.85% examples, 441008 words/s, in_qsize 5, out_qsize 0\n",
      "2021-09-11 11:37:20,929 : INFO : EPOCH 2 - PROGRESS: at 60.44% examples, 440933 words/s, in_qsize 5, out_qsize 0\n",
      "2021-09-11 11:37:21,946 : INFO : EPOCH 2 - PROGRESS: at 64.08% examples, 441393 words/s, in_qsize 5, out_qsize 0\n",
      "2021-09-11 11:37:22,971 : INFO : EPOCH 2 - PROGRESS: at 67.61% examples, 440820 words/s, in_qsize 4, out_qsize 2\n",
      "2021-09-11 11:37:23,986 : INFO : EPOCH 2 - PROGRESS: at 71.25% examples, 441417 words/s, in_qsize 5, out_qsize 0\n",
      "2021-09-11 11:37:24,991 : INFO : EPOCH 2 - PROGRESS: at 74.90% examples, 441945 words/s, in_qsize 5, out_qsize 0\n",
      "2021-09-11 11:37:26,009 : INFO : EPOCH 2 - PROGRESS: at 78.60% examples, 441852 words/s, in_qsize 5, out_qsize 0\n",
      "2021-09-11 11:37:27,012 : INFO : EPOCH 2 - PROGRESS: at 82.19% examples, 441959 words/s, in_qsize 6, out_qsize 0\n",
      "2021-09-11 11:37:28,040 : INFO : EPOCH 2 - PROGRESS: at 85.77% examples, 441743 words/s, in_qsize 5, out_qsize 0\n",
      "2021-09-11 11:37:29,044 : INFO : EPOCH 2 - PROGRESS: at 89.30% examples, 441693 words/s, in_qsize 5, out_qsize 0\n",
      "2021-09-11 11:37:30,077 : INFO : EPOCH 2 - PROGRESS: at 92.89% examples, 441267 words/s, in_qsize 5, out_qsize 0\n",
      "2021-09-11 11:37:31,078 : INFO : EPOCH 2 - PROGRESS: at 96.36% examples, 440927 words/s, in_qsize 5, out_qsize 0\n",
      "2021-09-11 11:37:32,069 : INFO : worker thread finished; awaiting finish of 2 more threads\n",
      "2021-09-11 11:37:32,075 : INFO : worker thread finished; awaiting finish of 1 more threads\n",
      "2021-09-11 11:37:32,082 : INFO : EPOCH 2 - PROGRESS: at 100.00% examples, 441214 words/s, in_qsize 0, out_qsize 1\n",
      "2021-09-11 11:37:32,083 : INFO : worker thread finished; awaiting finish of 0 more threads\n",
      "2021-09-11 11:37:32,085 : INFO : EPOCH - 2 : training on 17005207 raw words (12504685 effective words) took 28.3s, 441158 effective words/s\n",
      "2021-09-11 11:37:33,108 : INFO : EPOCH 3 - PROGRESS: at 3.47% examples, 426406 words/s, in_qsize 5, out_qsize 0\n",
      "2021-09-11 11:37:34,118 : INFO : EPOCH 3 - PROGRESS: at 7.17% examples, 437970 words/s, in_qsize 5, out_qsize 0\n",
      "2021-09-11 11:37:35,130 : INFO : EPOCH 3 - PROGRESS: at 10.88% examples, 443385 words/s, in_qsize 5, out_qsize 0\n",
      "2021-09-11 11:37:36,140 : INFO : EPOCH 3 - PROGRESS: at 14.34% examples, 440031 words/s, in_qsize 4, out_qsize 1\n",
      "2021-09-11 11:37:37,147 : INFO : EPOCH 3 - PROGRESS: at 18.05% examples, 443953 words/s, in_qsize 5, out_qsize 0\n",
      "2021-09-11 11:37:38,150 : INFO : EPOCH 3 - PROGRESS: at 21.52% examples, 442010 words/s, in_qsize 3, out_qsize 2\n",
      "2021-09-11 11:37:39,170 : INFO : EPOCH 3 - PROGRESS: at 24.81% examples, 436834 words/s, in_qsize 4, out_qsize 1\n",
      "2021-09-11 11:37:40,182 : INFO : EPOCH 3 - PROGRESS: at 28.40% examples, 438369 words/s, in_qsize 5, out_qsize 0\n",
      "2021-09-11 11:37:41,210 : INFO : EPOCH 3 - PROGRESS: at 31.80% examples, 436359 words/s, in_qsize 4, out_qsize 1\n",
      "2021-09-11 11:37:42,238 : INFO : EPOCH 3 - PROGRESS: at 35.45% examples, 437675 words/s, in_qsize 5, out_qsize 0\n",
      "2021-09-11 11:37:43,258 : INFO : EPOCH 3 - PROGRESS: at 39.04% examples, 437927 words/s, in_qsize 5, out_qsize 0\n",
      "2021-09-11 11:37:44,272 : INFO : EPOCH 3 - PROGRESS: at 42.68% examples, 439105 words/s, in_qsize 5, out_qsize 0\n",
      "2021-09-11 11:37:45,300 : INFO : EPOCH 3 - PROGRESS: at 46.27% examples, 438937 words/s, in_qsize 5, out_qsize 0\n",
      "2021-09-11 11:37:46,305 : INFO : EPOCH 3 - PROGRESS: at 49.79% examples, 439148 words/s, in_qsize 4, out_qsize 1\n",
      "2021-09-11 11:37:47,349 : INFO : EPOCH 3 - PROGRESS: at 53.50% examples, 439559 words/s, in_qsize 3, out_qsize 2\n",
      "2021-09-11 11:37:48,361 : INFO : EPOCH 3 - PROGRESS: at 57.03% examples, 439455 words/s, in_qsize 4, out_qsize 1\n",
      "2021-09-11 11:37:49,363 : INFO : EPOCH 3 - PROGRESS: at 60.61% examples, 440048 words/s, in_qsize 5, out_qsize 0\n",
      "2021-09-11 11:37:50,373 : INFO : EPOCH 3 - PROGRESS: at 63.90% examples, 438336 words/s, in_qsize 5, out_qsize 0\n",
      "2021-09-11 11:37:51,383 : INFO : EPOCH 3 - PROGRESS: at 67.43% examples, 438369 words/s, in_qsize 5, out_qsize 1\n",
      "2021-09-11 11:37:52,379 : INFO : EPOCH 3 - PROGRESS: at 71.02% examples, 438980 words/s, in_qsize 5, out_qsize 0\n",
      "2021-09-11 11:37:53,383 : INFO : EPOCH 3 - PROGRESS: at 74.54% examples, 439036 words/s, in_qsize 5, out_qsize 0\n",
      "2021-09-11 11:37:54,409 : INFO : EPOCH 3 - PROGRESS: at 77.72% examples, 435889 words/s, in_qsize 5, out_qsize 0\n",
      "2021-09-11 11:37:55,430 : INFO : EPOCH 3 - PROGRESS: at 81.36% examples, 436247 words/s, in_qsize 5, out_qsize 0\n",
      "2021-09-11 11:37:56,449 : INFO : EPOCH 3 - PROGRESS: at 85.01% examples, 436666 words/s, in_qsize 5, out_qsize 0\n",
      "2021-09-11 11:37:57,501 : INFO : EPOCH 3 - PROGRESS: at 88.59% examples, 436279 words/s, in_qsize 5, out_qsize 1\n",
      "2021-09-11 11:37:58,514 : INFO : EPOCH 3 - PROGRESS: at 91.06% examples, 431256 words/s, in_qsize 5, out_qsize 0\n",
      "2021-09-11 11:37:59,528 : INFO : EPOCH 3 - PROGRESS: at 94.30% examples, 429914 words/s, in_qsize 5, out_qsize 0\n",
      "2021-09-11 11:38:00,539 : INFO : EPOCH 3 - PROGRESS: at 97.88% examples, 430287 words/s, in_qsize 5, out_qsize 0\n",
      "2021-09-11 11:38:01,164 : INFO : worker thread finished; awaiting finish of 2 more threads\n",
      "2021-09-11 11:38:01,171 : INFO : worker thread finished; awaiting finish of 1 more threads\n",
      "2021-09-11 11:38:01,172 : INFO : worker thread finished; awaiting finish of 0 more threads\n",
      "2021-09-11 11:38:01,172 : INFO : EPOCH - 3 : training on 17005207 raw words (12505366 effective words) took 29.1s, 429955 effective words/s\n",
      "2021-09-11 11:38:02,208 : INFO : EPOCH 4 - PROGRESS: at 3.41% examples, 414529 words/s, in_qsize 4, out_qsize 2\n",
      "2021-09-11 11:38:03,229 : INFO : EPOCH 4 - PROGRESS: at 7.11% examples, 430145 words/s, in_qsize 6, out_qsize 0\n",
      "2021-09-11 11:38:04,247 : INFO : EPOCH 4 - PROGRESS: at 10.76% examples, 434856 words/s, in_qsize 5, out_qsize 0\n",
      "2021-09-11 11:38:05,261 : INFO : EPOCH 4 - PROGRESS: at 14.40% examples, 438172 words/s, in_qsize 4, out_qsize 1\n",
      "2021-09-11 11:38:06,268 : INFO : EPOCH 4 - PROGRESS: at 18.05% examples, 441145 words/s, in_qsize 5, out_qsize 0\n",
      "2021-09-11 11:38:07,299 : INFO : EPOCH 4 - PROGRESS: at 21.69% examples, 441191 words/s, in_qsize 5, out_qsize 0\n",
      "2021-09-11 11:38:08,302 : INFO : EPOCH 4 - PROGRESS: at 25.28% examples, 442582 words/s, in_qsize 5, out_qsize 0\n",
      "2021-09-11 11:38:09,313 : INFO : EPOCH 4 - PROGRESS: at 28.87% examples, 443436 words/s, in_qsize 5, out_qsize 0\n",
      "2021-09-11 11:38:10,336 : INFO : EPOCH 4 - PROGRESS: at 32.45% examples, 443523 words/s, in_qsize 5, out_qsize 1\n",
      "2021-09-11 11:38:11,361 : INFO : EPOCH 4 - PROGRESS: at 36.04% examples, 443472 words/s, in_qsize 5, out_qsize 0\n",
      "2021-09-11 11:38:12,374 : INFO : EPOCH 4 - PROGRESS: at 39.33% examples, 440149 words/s, in_qsize 5, out_qsize 0\n",
      "2021-09-11 11:38:13,376 : INFO : EPOCH 4 - PROGRESS: at 42.92% examples, 440973 words/s, in_qsize 5, out_qsize 0\n",
      "2021-09-11 11:38:14,380 : INFO : EPOCH 4 - PROGRESS: at 46.50% examples, 441540 words/s, in_qsize 5, out_qsize 0\n",
      "2021-09-11 11:38:15,421 : INFO : EPOCH 4 - PROGRESS: at 50.09% examples, 440933 words/s, in_qsize 5, out_qsize 0\n",
      "2021-09-11 11:38:16,433 : INFO : EPOCH 4 - PROGRESS: at 53.62% examples, 440671 words/s, in_qsize 5, out_qsize 0\n",
      "2021-09-11 11:38:17,449 : INFO : EPOCH 4 - PROGRESS: at 57.26% examples, 441477 words/s, in_qsize 5, out_qsize 1\n",
      "2021-09-11 11:38:18,473 : INFO : EPOCH 4 - PROGRESS: at 60.91% examples, 441682 words/s, in_qsize 4, out_qsize 1\n",
      "2021-09-11 11:38:19,478 : INFO : EPOCH 4 - PROGRESS: at 64.55% examples, 442323 words/s, in_qsize 5, out_qsize 0\n",
      "2021-09-11 11:38:20,512 : INFO : EPOCH 4 - PROGRESS: at 68.14% examples, 441930 words/s, in_qsize 3, out_qsize 2\n",
      "2021-09-11 11:38:21,513 : INFO : EPOCH 4 - PROGRESS: at 71.72% examples, 442297 words/s, in_qsize 5, out_qsize 0\n",
      "2021-09-11 11:38:22,535 : INFO : EPOCH 4 - PROGRESS: at 75.43% examples, 442551 words/s, in_qsize 5, out_qsize 0\n",
      "2021-09-11 11:38:23,553 : INFO : EPOCH 4 - PROGRESS: at 78.95% examples, 441714 words/s, in_qsize 5, out_qsize 0\n",
      "2021-09-11 11:38:24,564 : INFO : EPOCH 4 - PROGRESS: at 82.48% examples, 441356 words/s, in_qsize 5, out_qsize 0\n",
      "2021-09-11 11:38:25,570 : INFO : EPOCH 4 - PROGRESS: at 86.01% examples, 441298 words/s, in_qsize 6, out_qsize 0\n",
      "2021-09-11 11:38:26,601 : INFO : EPOCH 4 - PROGRESS: at 89.65% examples, 441394 words/s, in_qsize 5, out_qsize 0\n",
      "2021-09-11 11:38:27,603 : INFO : EPOCH 4 - PROGRESS: at 93.36% examples, 442032 words/s, in_qsize 5, out_qsize 0\n",
      "2021-09-11 11:38:28,607 : INFO : EPOCH 4 - PROGRESS: at 96.88% examples, 441867 words/s, in_qsize 4, out_qsize 1\n",
      "2021-09-11 11:38:29,424 : INFO : worker thread finished; awaiting finish of 2 more threads\n",
      "2021-09-11 11:38:29,428 : INFO : worker thread finished; awaiting finish of 1 more threads\n",
      "2021-09-11 11:38:29,432 : INFO : worker thread finished; awaiting finish of 0 more threads\n",
      "2021-09-11 11:38:29,433 : INFO : EPOCH - 4 : training on 17005207 raw words (12505953 effective words) took 28.3s, 442586 effective words/s\n",
      "2021-09-11 11:38:30,449 : INFO : EPOCH 5 - PROGRESS: at 3.41% examples, 421852 words/s, in_qsize 5, out_qsize 0\n",
      "2021-09-11 11:38:31,464 : INFO : EPOCH 5 - PROGRESS: at 7.05% examples, 430929 words/s, in_qsize 5, out_qsize 0\n",
      "2021-09-11 11:38:32,480 : INFO : EPOCH 5 - PROGRESS: at 10.64% examples, 433650 words/s, in_qsize 5, out_qsize 0\n",
      "2021-09-11 11:38:33,494 : INFO : EPOCH 5 - PROGRESS: at 14.23% examples, 435687 words/s, in_qsize 5, out_qsize 0\n",
      "2021-09-11 11:38:34,511 : INFO : EPOCH 5 - PROGRESS: at 17.81% examples, 436653 words/s, in_qsize 4, out_qsize 1\n",
      "2021-09-11 11:38:35,525 : INFO : EPOCH 5 - PROGRESS: at 21.16% examples, 432723 words/s, in_qsize 5, out_qsize 0\n",
      "2021-09-11 11:38:36,547 : INFO : EPOCH 5 - PROGRESS: at 24.75% examples, 434032 words/s, in_qsize 3, out_qsize 2\n",
      "2021-09-11 11:38:37,551 : INFO : EPOCH 5 - PROGRESS: at 28.34% examples, 436371 words/s, in_qsize 6, out_qsize 0\n",
      "2021-09-11 11:38:38,579 : INFO : EPOCH 5 - PROGRESS: at 31.86% examples, 436145 words/s, in_qsize 3, out_qsize 2\n",
      "2021-09-11 11:38:39,586 : INFO : EPOCH 5 - PROGRESS: at 35.39% examples, 436941 words/s, in_qsize 5, out_qsize 0\n",
      "2021-09-11 11:38:40,619 : INFO : EPOCH 5 - PROGRESS: at 38.98% examples, 436832 words/s, in_qsize 4, out_qsize 2\n",
      "2021-09-11 11:38:41,647 : INFO : EPOCH 5 - PROGRESS: at 42.74% examples, 438772 words/s, in_qsize 5, out_qsize 0\n",
      "2021-09-11 11:38:42,668 : INFO : EPOCH 5 - PROGRESS: at 46.38% examples, 439474 words/s, in_qsize 5, out_qsize 0\n",
      "2021-09-11 11:38:43,674 : INFO : EPOCH 5 - PROGRESS: at 49.97% examples, 440089 words/s, in_qsize 5, out_qsize 0\n",
      "2021-09-11 11:38:44,696 : INFO : EPOCH 5 - PROGRESS: at 53.56% examples, 440126 words/s, in_qsize 3, out_qsize 2\n",
      "2021-09-11 11:38:45,716 : INFO : EPOCH 5 - PROGRESS: at 57.08% examples, 439784 words/s, in_qsize 5, out_qsize 0\n",
      "2021-09-11 11:38:46,717 : INFO : EPOCH 5 - PROGRESS: at 60.38% examples, 438245 words/s, in_qsize 4, out_qsize 1\n",
      "2021-09-11 11:38:47,737 : INFO : EPOCH 5 - PROGRESS: at 64.02% examples, 438781 words/s, in_qsize 5, out_qsize 0\n",
      "2021-09-11 11:38:48,754 : INFO : EPOCH 5 - PROGRESS: at 67.55% examples, 438504 words/s, in_qsize 5, out_qsize 0\n",
      "2021-09-11 11:38:49,756 : INFO : EPOCH 5 - PROGRESS: at 71.13% examples, 439153 words/s, in_qsize 5, out_qsize 0\n",
      "2021-09-11 11:38:50,757 : INFO : EPOCH 5 - PROGRESS: at 74.72% examples, 439614 words/s, in_qsize 4, out_qsize 0\n",
      "2021-09-11 11:38:51,770 : INFO : EPOCH 5 - PROGRESS: at 78.42% examples, 439649 words/s, in_qsize 5, out_qsize 0\n",
      "2021-09-11 11:38:52,799 : INFO : EPOCH 5 - PROGRESS: at 81.95% examples, 439084 words/s, in_qsize 4, out_qsize 1\n",
      "2021-09-11 11:38:53,811 : INFO : EPOCH 5 - PROGRESS: at 85.54% examples, 439258 words/s, in_qsize 5, out_qsize 0\n",
      "2021-09-11 11:38:54,848 : INFO : EPOCH 5 - PROGRESS: at 89.01% examples, 438414 words/s, in_qsize 4, out_qsize 1\n",
      "2021-09-11 11:38:55,853 : INFO : EPOCH 5 - PROGRESS: at 92.71% examples, 439168 words/s, in_qsize 4, out_qsize 0\n",
      "2021-09-11 11:38:56,869 : INFO : EPOCH 5 - PROGRESS: at 96.30% examples, 439217 words/s, in_qsize 5, out_qsize 0\n",
      "2021-09-11 11:38:57,886 : INFO : EPOCH 5 - PROGRESS: at 99.65% examples, 438171 words/s, in_qsize 5, out_qsize 0\n",
      "2021-09-11 11:38:57,938 : INFO : worker thread finished; awaiting finish of 2 more threads\n",
      "2021-09-11 11:38:57,951 : INFO : worker thread finished; awaiting finish of 1 more threads\n",
      "2021-09-11 11:38:57,955 : INFO : worker thread finished; awaiting finish of 0 more threads\n",
      "2021-09-11 11:38:57,956 : INFO : EPOCH - 5 : training on 17005207 raw words (12507825 effective words) took 28.5s, 438546 effective words/s\n",
      "2021-09-11 11:38:57,959 : INFO : training on a 85026035 raw words (62530052 effective words) took 143.6s, 435583 effective words/s\n"
     ]
    }
   ],
   "source": [
    "from gensim.models.word2vec import Word2Vec\n",
    "model = Word2Vec(corpus)"
   ]
  },
  {
   "cell_type": "code",
   "execution_count": 68,
   "metadata": {},
   "outputs": [
    {
     "data": {
      "text/plain": [
       "0.3558377"
      ]
     },
     "execution_count": 68,
     "metadata": {},
     "output_type": "execute_result"
    }
   ],
   "source": [
    "model.wv.similarity('good', 'great')"
   ]
  },
  {
   "cell_type": "code",
   "execution_count": 55,
   "metadata": {},
   "outputs": [
    {
     "data": {
      "text/plain": [
       "[('tarleton', 0.8177099227905273),\n",
       " ('tankette', 0.8050522804260254),\n",
       " ('albemarle', 0.8045037984848022),\n",
       " ('rautha', 0.7964690327644348),\n",
       " ('corry', 0.7960758209228516),\n",
       " ('tigin', 0.7924678325653076),\n",
       " ('grapnel', 0.7918468713760376),\n",
       " ('ostrogothic', 0.7912108898162842),\n",
       " ('qel', 0.7906294465065002),\n",
       " ('bellerophon', 0.789064347743988),\n",
       " ('vidkun', 0.7879985570907593),\n",
       " ('babidi', 0.7878636121749878),\n",
       " ('hornbill', 0.7870059609413147),\n",
       " ('gasparo', 0.7857137322425842),\n",
       " ('awardees', 0.7854341864585876),\n",
       " ('skirmishers', 0.7850451469421387),\n",
       " ('windu', 0.7848600149154663),\n",
       " ('flogged', 0.7838788628578186),\n",
       " ('ankan', 0.7837388515472412),\n",
       " ('jehoahaz', 0.7832452058792114),\n",
       " ('penthesilea', 0.7821099758148193),\n",
       " ('grieving', 0.7808115482330322),\n",
       " ('argonautica', 0.7805665731430054),\n",
       " ('svoboda', 0.7804000377655029),\n",
       " ('inman', 0.7802937030792236),\n",
       " ('droma', 0.7798689007759094),\n",
       " ('brandished', 0.7797306776046753),\n",
       " ('quisling', 0.7795533537864685),\n",
       " ('hussars', 0.7793154120445251),\n",
       " ('herv', 0.7791354656219482),\n",
       " ('hyacinth', 0.778911292552948),\n",
       " ('mamaea', 0.7781615257263184),\n",
       " ('angouleme', 0.7772696018218994),\n",
       " ('wilhelmshaven', 0.7767427563667297),\n",
       " ('tobey', 0.7766551375389099),\n",
       " ('grimoald', 0.7763559222221375),\n",
       " ('slade', 0.7761014699935913),\n",
       " ('audacity', 0.7757871150970459),\n",
       " ('iulius', 0.7743566632270813),\n",
       " ('phaethon', 0.7741976380348206),\n",
       " ('ebing', 0.7741634845733643),\n",
       " ('lowndes', 0.7739207148551941),\n",
       " ('rumpus', 0.7738597989082336),\n",
       " ('brazen', 0.773827850818634),\n",
       " ('christa', 0.773481547832489),\n",
       " ('cartago', 0.7733725905418396),\n",
       " ('chrysanthemum', 0.7733567953109741),\n",
       " ('altdorfer', 0.7730938196182251),\n",
       " ('zebulon', 0.7729599475860596),\n",
       " ('thea', 0.7729225158691406)]"
      ]
     },
     "execution_count": 55,
     "metadata": {},
     "output_type": "execute_result"
    }
   ],
   "source": [
    "model.wv.most_similar(positive=['dashing'],topn=50)"
   ]
  },
  {
   "cell_type": "code",
   "execution_count": 19,
   "metadata": {
    "collapsed": true,
    "jupyter": {
     "outputs_hidden": true
    }
   },
   "outputs": [
    {
     "name": "stdout",
     "output_type": "stream",
     "text": [
      "Help on method most_similar in module gensim.models.keyedvectors:\n",
      "\n",
      "most_similar(positive=None, negative=None, topn=10, restrict_vocab=None, indexer=None) method of gensim.models.keyedvectors.Word2VecKeyedVectors instance\n",
      "    Find the top-N most similar words.\n",
      "    Positive words contribute positively towards the similarity, negative words negatively.\n",
      "    \n",
      "    This method computes cosine similarity between a simple mean of the projection\n",
      "    weight vectors of the given words and the vectors for each word in the model.\n",
      "    The method corresponds to the `word-analogy` and `distance` scripts in the original\n",
      "    word2vec implementation.\n",
      "    \n",
      "    Parameters\n",
      "    ----------\n",
      "    positive : list of str, optional\n",
      "        List of words that contribute positively.\n",
      "    negative : list of str, optional\n",
      "        List of words that contribute negatively.\n",
      "    topn : int or None, optional\n",
      "        Number of top-N similar words to return, when `topn` is int. When `topn` is None,\n",
      "        then similarities for all words are returned.\n",
      "    restrict_vocab : int, optional\n",
      "        Optional integer which limits the range of vectors which\n",
      "        are searched for most-similar values. For example, restrict_vocab=10000 would\n",
      "        only check the first 10000 word vectors in the vocabulary order. (This may be\n",
      "        meaningful if you've sorted the vocabulary by descending frequency.)\n",
      "    \n",
      "    Returns\n",
      "    -------\n",
      "    list of (str, float) or numpy.array\n",
      "        When `topn` is int, a sequence of (word, similarity) is returned.\n",
      "        When `topn` is None, then similarities for all words are returned as a\n",
      "        one-dimensional numpy array with the size of the vocabulary.\n",
      "\n"
     ]
    }
   ],
   "source": [
    "help(model.wv.most_similar)"
   ]
  },
  {
   "cell_type": "code",
   "execution_count": 34,
   "metadata": {},
   "outputs": [
    {
     "name": "stdin",
     "output_type": "stream",
     "text": [
      "Hey, how do you think I look in this picture? strong\n"
     ]
    }
   ],
   "source": [
    "user_input = input(\"Hey, how do you think I look in this picture?\")"
   ]
  },
  {
   "cell_type": "code",
   "execution_count": 46,
   "metadata": {
    "collapsed": true,
    "jupyter": {
     "outputs_hidden": true
    }
   },
   "outputs": [
    {
     "data": {
      "text/plain": [
       "[('bemani', 0.6370230317115784),\n",
       " ('lollapalooza', 0.6333874464035034),\n",
       " ('stylised', 0.6306930780410767),\n",
       " ('operatic', 0.6175523996353149),\n",
       " ('breakdancing', 0.6135305762290955),\n",
       " ('scat', 0.6087838411331177),\n",
       " ('unmistakable', 0.6069709062576294),\n",
       " ('doggystyle', 0.5962108969688416),\n",
       " ('morbid', 0.5957083702087402),\n",
       " ('esque', 0.5912648439407349),\n",
       " ('phenomenally', 0.5891837477684021),\n",
       " ('unplugged', 0.5859807729721069),\n",
       " ('carousel', 0.5851074457168579),\n",
       " ('unconventional', 0.5848016142845154),\n",
       " ('unsettling', 0.5827749371528625),\n",
       " ('gritty', 0.5804417729377747),\n",
       " ('droll', 0.5795912742614746),\n",
       " ('screenings', 0.579182505607605),\n",
       " ('backstory', 0.57884681224823),\n",
       " ('jigsaw', 0.5770683884620667),\n",
       " ('shivers', 0.5770512819290161),\n",
       " ('plush', 0.576951265335083),\n",
       " ('ozzfest', 0.5751328468322754),\n",
       " ('unforgettable', 0.575090765953064),\n",
       " ('directorial', 0.5742805600166321),\n",
       " ('comedic', 0.5722710490226746),\n",
       " ('paganini', 0.5720735788345337),\n",
       " ('blaxploitation', 0.5717203617095947),\n",
       " ('gargoyles', 0.5710744857788086),\n",
       " ('uncritical', 0.5710128545761108),\n",
       " ('cinematic', 0.5706755518913269),\n",
       " ('musicianship', 0.569015622138977),\n",
       " ('uncensored', 0.5690129995346069),\n",
       " ('castlevania', 0.5686277151107788),\n",
       " ('phish', 0.5683836936950684),\n",
       " ('virtuosic', 0.5678204298019409),\n",
       " ('surreal', 0.5667843818664551),\n",
       " ('soloists', 0.5662950277328491),\n",
       " ('wonka', 0.5653833746910095),\n",
       " ('revues', 0.5648514628410339),\n",
       " ('langlois', 0.5636205673217773),\n",
       " ('inventive', 0.5635918974876404),\n",
       " ('chillout', 0.5611013174057007),\n",
       " ('rahxephon', 0.5608602166175842),\n",
       " ('intricate', 0.5606774091720581),\n",
       " ('lavish', 0.5603454113006592),\n",
       " ('xtra', 0.5594407320022583),\n",
       " ('sitcoms', 0.5593405961990356),\n",
       " ('dazzling', 0.5591871738433838),\n",
       " ('farcical', 0.5591812133789062)]"
      ]
     },
     "execution_count": 46,
     "metadata": {},
     "output_type": "execute_result"
    }
   ],
   "source": [
    "model.wv.most_similar(positive=['fun','exuberant','playful'],negative=['mean','rude'],topn=50)"
   ]
  },
  {
   "cell_type": "code",
   "execution_count": 44,
   "metadata": {
    "collapsed": true,
    "jupyter": {
     "outputs_hidden": true
    }
   },
   "outputs": [
    {
     "data": {
      "text/plain": [
       "[('friendly', 0.42791926860809326),\n",
       " ('fiba', 0.4272907078266144),\n",
       " ('popular', 0.42518678307533264),\n",
       " ('successful', 0.41753748059272766),\n",
       " ('lucrative', 0.3995439112186432),\n",
       " ('competitive', 0.3929857313632965),\n",
       " ('touring', 0.3902195692062378),\n",
       " ('formidable', 0.38540711998939514),\n",
       " ('competing', 0.3841361701488495),\n",
       " ('significant', 0.38390934467315674),\n",
       " ('spectacular', 0.38356998562812805),\n",
       " ('widespread', 0.3825361728668213),\n",
       " ('huge', 0.3800494074821472),\n",
       " ('commercial', 0.3790844678878784),\n",
       " ('heavy', 0.37141603231430054),\n",
       " ('trading', 0.3662174940109253),\n",
       " ('tremendous', 0.3583827018737793),\n",
       " ('profitable', 0.3510485887527466),\n",
       " ('considerable', 0.34978240728378296),\n",
       " ('massive', 0.3474721312522888),\n",
       " ('heavily', 0.34599143266677856),\n",
       " ('opportunities', 0.34195154905319214),\n",
       " ('competition', 0.34078335762023926),\n",
       " ('productive', 0.3387458324432373),\n",
       " ('substantial', 0.3379113972187042),\n",
       " ('racing', 0.3362123370170593),\n",
       " ('dominance', 0.3354833126068115),\n",
       " ('unique', 0.3314368724822998),\n",
       " ('major', 0.33043035864830017),\n",
       " ('strongest', 0.32973188161849976),\n",
       " ('diverse', 0.329353392124176),\n",
       " ('innovative', 0.3280061185359955),\n",
       " ('dominant', 0.3261733055114746),\n",
       " ('arsenal', 0.3234383165836334),\n",
       " ('prosperous', 0.32307806611061096),\n",
       " ('dramatic', 0.3189820349216461),\n",
       " ('markets', 0.31531286239624023),\n",
       " ('its', 0.31284528970718384),\n",
       " ('prominent', 0.3103380799293518),\n",
       " ('elite', 0.3084585964679718),\n",
       " ('valuable', 0.30726540088653564),\n",
       " ('frequent', 0.3053792417049408),\n",
       " ('wide', 0.3040539026260376),\n",
       " ('shipping', 0.30384135246276855),\n",
       " ('sport', 0.3028036653995514),\n",
       " ('advanced', 0.3026992380619049),\n",
       " ('distinctive', 0.30142390727996826),\n",
       " ('multi', 0.3006511330604553),\n",
       " ('decisive', 0.3005150556564331),\n",
       " ('growing', 0.29962635040283203)]"
      ]
     },
     "execution_count": 44,
     "metadata": {},
     "output_type": "execute_result"
    }
   ],
   "source": [
    "model.wv.most_similar(positive=['strong','tough','powerful'],negative=['weak','frail','pathetic'],topn=50)"
   ]
  },
  {
   "cell_type": "code",
   "execution_count": 52,
   "metadata": {},
   "outputs": [
    {
     "data": {
      "text/plain": [
       "0.14242804"
      ]
     },
     "execution_count": 52,
     "metadata": {},
     "output_type": "execute_result"
    }
   ],
   "source": [
    "model.wv.similarity('fun','exuberant')"
   ]
  },
  {
   "cell_type": "code",
   "execution_count": 51,
   "metadata": {},
   "outputs": [
    {
     "ename": "NameError",
     "evalue": "name 'documents' is not defined",
     "output_type": "error",
     "traceback": [
      "\u001b[0;31m---------------------------------------------------------------------------\u001b[0m",
      "\u001b[0;31mNameError\u001b[0m                                 Traceback (most recent call last)",
      "\u001b[0;32m<ipython-input-51-e76cac436a2d>\u001b[0m in \u001b[0;36m<module>\u001b[0;34m\u001b[0m\n\u001b[1;32m      6\u001b[0m texts = [\n\u001b[1;32m      7\u001b[0m     \u001b[0;34m[\u001b[0m\u001b[0mword\u001b[0m \u001b[0;32mfor\u001b[0m \u001b[0mword\u001b[0m \u001b[0;32min\u001b[0m \u001b[0mdocument\u001b[0m\u001b[0;34m.\u001b[0m\u001b[0mlower\u001b[0m\u001b[0;34m(\u001b[0m\u001b[0;34m)\u001b[0m\u001b[0;34m.\u001b[0m\u001b[0msplit\u001b[0m\u001b[0;34m(\u001b[0m\u001b[0;34m)\u001b[0m \u001b[0;32mif\u001b[0m \u001b[0mword\u001b[0m \u001b[0;32mnot\u001b[0m \u001b[0;32min\u001b[0m \u001b[0mstoplist\u001b[0m\u001b[0;34m]\u001b[0m\u001b[0;34m\u001b[0m\u001b[0;34m\u001b[0m\u001b[0m\n\u001b[0;32m----> 8\u001b[0;31m     \u001b[0;32mfor\u001b[0m \u001b[0mdocument\u001b[0m \u001b[0;32min\u001b[0m \u001b[0mdocuments\u001b[0m\u001b[0;34m\u001b[0m\u001b[0;34m\u001b[0m\u001b[0m\n\u001b[0m\u001b[1;32m      9\u001b[0m ]\n\u001b[1;32m     10\u001b[0m \u001b[0;34m\u001b[0m\u001b[0m\n",
      "\u001b[0;31mNameError\u001b[0m: name 'documents' is not defined"
     ]
    }
   ],
   "source": [
    "from pprint import pprint  # pretty-printer\n",
    "from collections import defaultdict\n",
    "\n",
    "# remove common words and tokenize\n",
    "stoplist = set('for a of the and to in'.split())\n",
    "texts = [\n",
    "    [word for word in document.lower().split() if word not in stoplist]\n",
    "    for document in documents\n",
    "]\n",
    "\n",
    "# remove words that appear only once\n",
    "frequency = defaultdict(int)\n",
    "for text in texts:\n",
    "    for token in text:\n",
    "        frequency[token] += 1\n",
    "\n",
    "texts = [\n",
    "    [token for token in text if frequency[token] > 1]\n",
    "    for text in texts\n",
    "]\n",
    "\n",
    "pprint(texts)"
   ]
  },
  {
   "cell_type": "code",
   "execution_count": 50,
   "metadata": {},
   "outputs": [
    {
     "ename": "NameError",
     "evalue": "name 'texts' is not defined",
     "output_type": "error",
     "traceback": [
      "\u001b[0;31m---------------------------------------------------------------------------\u001b[0m",
      "\u001b[0;31mNameError\u001b[0m                                 Traceback (most recent call last)",
      "\u001b[0;32m<ipython-input-50-4bc5ea703290>\u001b[0m in \u001b[0;36m<module>\u001b[0;34m\u001b[0m\n\u001b[1;32m      1\u001b[0m \u001b[0;32mfrom\u001b[0m \u001b[0mgensim\u001b[0m \u001b[0;32mimport\u001b[0m \u001b[0mcorpora\u001b[0m\u001b[0;34m\u001b[0m\u001b[0;34m\u001b[0m\u001b[0m\n\u001b[0;32m----> 2\u001b[0;31m \u001b[0mdictionary\u001b[0m \u001b[0;34m=\u001b[0m \u001b[0mcorpora\u001b[0m\u001b[0;34m.\u001b[0m\u001b[0mDictionary\u001b[0m\u001b[0;34m(\u001b[0m\u001b[0mtexts\u001b[0m\u001b[0;34m)\u001b[0m\u001b[0;34m\u001b[0m\u001b[0;34m\u001b[0m\u001b[0m\n\u001b[0m\u001b[1;32m      3\u001b[0m \u001b[0mdictionary\u001b[0m\u001b[0;34m.\u001b[0m\u001b[0msave\u001b[0m\u001b[0;34m(\u001b[0m\u001b[0;34m'/tmp/deerwester.dict'\u001b[0m\u001b[0;34m)\u001b[0m  \u001b[0;31m# store the dictionary, for future reference\u001b[0m\u001b[0;34m\u001b[0m\u001b[0;34m\u001b[0m\u001b[0m\n\u001b[1;32m      4\u001b[0m \u001b[0mprint\u001b[0m\u001b[0;34m(\u001b[0m\u001b[0mdictionary\u001b[0m\u001b[0;34m)\u001b[0m\u001b[0;34m\u001b[0m\u001b[0;34m\u001b[0m\u001b[0m\n",
      "\u001b[0;31mNameError\u001b[0m: name 'texts' is not defined"
     ]
    }
   ],
   "source": [
    "from gensim import corpora\n",
    "dictionary = corpora.Dictionary(texts)\n",
    "dictionary.save('/tmp/deerwester.dict')  # store the dictionary, for future reference\n",
    "print(dictionary)"
   ]
  },
  {
   "cell_type": "code",
   "execution_count": null,
   "metadata": {},
   "outputs": [],
   "source": []
  }
 ],
 "metadata": {
  "kernelspec": {
   "display_name": "Python 3 (Data Science)",
   "language": "python",
   "name": "python3__SAGEMAKER_INTERNAL__arn:aws:sagemaker:us-east-1:081325390199:image/datascience-1.0"
  },
  "language_info": {
   "codemirror_mode": {
    "name": "ipython",
    "version": 3
   },
   "file_extension": ".py",
   "mimetype": "text/x-python",
   "name": "python",
   "nbconvert_exporter": "python",
   "pygments_lexer": "ipython3",
   "version": "3.7.10"
  }
 },
 "nbformat": 4,
 "nbformat_minor": 4
}
